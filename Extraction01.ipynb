{
 "cells": [
  {
   "cell_type": "code",
   "execution_count": 1,
   "id": "dede6fa4",
   "metadata": {},
   "outputs": [],
   "source": [
    "import os\n",
    "import json\n",
    "import csv\n",
    "from confluent_kafka import Producer\n",
    "\n",
    "# Chemin du dossier contenant les fichiers CSV\n",
    "dossier_csv = 'dossier'\n",
    "\n",
    "# Configuration Kafka\n",
    "KAFKA_BOOTSTRAP_SERVERS = \"localhost:9092\"\n",
    "KAFKA_TOPIC = \"Topic5\"\n",
    "\n",
    "def send_to_kafka(data_to_publish, producer):\n",
    "    json_data = json.dumps(data_to_publish)\n",
    "    producer.produce(KAFKA_TOPIC, key=None, value=json_data)\n",
    "    producer.flush()\n",
    "\n",
    "def process_csv_file(file_path, producer):\n",
    "    with open(file_path, 'r', encoding='ISO-8859-1') as fichier:\n",
    "        lecteur_csv = csv.reader(fichier)\n",
    "        for ligne in lecteur_csv:\n",
    "            send_to_kafka(ligne, producer)\n",
    "            print('Ligne envoyée à Kafka :', ligne)\n",
    "\n",
    "def main_producer():\n",
    "    producer = Producer({'bootstrap.servers': KAFKA_BOOTSTRAP_SERVERS})\n",
    "\n",
    "    for root, dirs, files in os.walk(dossier_csv):\n",
    "        for file in files:\n",
    "            if file.endswith('.csv'):\n",
    "                file_path = os.path.join(root, file)\n",
    "                print('Traitement du fichier CSV :', file_path)\n",
    "                process_csv_file(file_path, producer)\n",
    "\n",
    "if __name__ == \"__main__\":\n",
    "    main_producer()"
   ]
  },
  {
   "cell_type": "code",
   "execution_count": null,
   "id": "5b5a151d",
   "metadata": {},
   "outputs": [],
   "source": []
  }
 ],
 "metadata": {
  "kernelspec": {
   "display_name": "Python 3 (ipykernel)",
   "language": "python",
   "name": "python3"
  },
  "language_info": {
   "codemirror_mode": {
    "name": "ipython",
    "version": 3
   },
   "file_extension": ".py",
   "mimetype": "text/x-python",
   "name": "python",
   "nbconvert_exporter": "python",
   "pygments_lexer": "ipython3",
   "version": "3.11.5"
  }
 },
 "nbformat": 4,
 "nbformat_minor": 5
}
