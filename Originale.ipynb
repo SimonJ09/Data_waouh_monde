{
 "cells": [
  {
   "cell_type": "markdown",
   "id": "482599f3",
   "metadata": {},
   "source": [
    "### Résultats de l'assimilation"
   ]
  },
  {
   "cell_type": "code",
   "execution_count": 1,
   "id": "94dc1015",
   "metadata": {},
   "outputs": [
    {
     "name": "stdout",
     "output_type": "stream",
     "text": [
      "Dossier principal: dossier_code\n",
      "Nom de la ville: AURILLAC\n",
      "Nombre de codes postaux uniques de 15 min: 4\n",
      "Nombre de codes postaux uniques de 30 min: 9\n",
      "Nombre de codes postaux uniques de 45 min: 11\n",
      "Nombre de codes postaux uniques au total: 24\n",
      "Liste de codes postaux uniques de 15 min: {15000, 15130, 15220, 15250}\n",
      "Liste de codes postaux uniques de 30 min: {15140, 15590, 15340, 15310, 15150, 15120, 15600, 15800, 15290}\n",
      "Liste de codes postaux uniques de 45 min: {12320, 46210, 15300, 19430, 12300, 12460, 12140, 46190, 19220, 15700, 12600}\n",
      "Liste de codes postaux uniques au total: {46210, 15300, 12300, 15310, 15120, 15250, 19220, 15700, 15000, 15130, 12320, 12600, 15140, 15590, 19430, 15340, 12460, 15150, 12140, 15600, 46190, 15220, 15800, 15290}\n",
      "\n",
      "\n",
      "Dossier principal: dossier_code\n",
      "Nom de la ville: CRECHE_SUR_SOANE\n",
      "Nombre de codes postaux uniques de 15 min: 9\n",
      "Nombre de codes postaux uniques de 30 min: 37\n",
      "Nombre de codes postaux uniques de 45 min: 72\n",
      "Nombre de codes postaux uniques au total: 118\n",
      "Liste de codes postaux uniques de 15 min: {1600, 1090, 69830, 69480, 1480, 69640, 69650, 69460, 69400}\n",
      "Liste de codes postaux uniques de 30 min: {69760, 69250, 69890, 69380, 69130, 69260, 69005, 69004, 69009, 71570, 69140, 69270, 69910, 69660, 69280, 69410, 1700, 69160, 1330, 69300, 69430, 69820, 69570, 1990, 69450, 69580, 69210, 69730, 69220, 1390, 69870, 69490, 69620, 1140, 1400, 69370, 69115}\n",
      "Liste de codes postaux uniques de 45 min: {71680, 69120, 1540, 69125, 69126, 69124, 1800, 1290, 69390, 71960, 69150, 1310, 1570, 69670, 1320, 69680, 69170, 69690, 69190, 69960, 69200, 1360, 71250, 38230, 69720, 71000, 71260, 69470, 1120, 71520, 1380, 69740, 69230, 1660, 69500, 1150, 69510, 38280, 69001, 69002, 69003, 38540, 69006, 69007, 69008, 38290, 69780, 69530, 69540, 69800, 1960, 71850, 69290, 69550, 38070, 71870, 69310, 69320, 71118, 69840, 69330, 1750, 1240, 69340, 69600, 69860, 69350, 1000, 69100, 69360, 69110, 69630}\n",
      "Liste de codes postaux uniques au total: {71680, 69120, 1540, 69125, 69126, 69124, 69640, 69130, 69650, 69140, 69660, 69150, 1570, 69670, 69160, 69680, 69170, 69690, 1600, 1090, 69190, 69200, 71250, 69720, 69210, 71260, 1120, 69730, 69220, 69740, 69230, 1140, 1660, 1150, 69760, 69250, 69260, 38540, 69780, 69270, 69280, 1700, 69800, 71850, 69290, 69300, 38070, 69820, 71870, 69310, 69830, 69320, 69840, 69330, 1750, 1240, 69340, 69860, 69350, 69870, 69360, 69370, 69890, 69380, 1800, 1290, 69390, 69910, 69400, 71960, 1310, 69410, 1320, 1330, 69430, 69960, 69450, 1360, 69460, 38230, 71000, 69470, 71520, 1380, 69480, 1390, 69490, 1400, 69500, 69510, 38280, 69001, 69002, 69003, 69004, 69005, 69006, 69007, 69008, 69009, 71570, 38290, 69530, 69540, 1960, 69550, 69570, 1990, 1480, 69580, 71118, 69600, 1000, 69100, 69620, 69110, 69115, 69630}\n",
      "\n",
      "\n",
      "Dossier principal: dossier_code\n",
      "Nom de la ville: GONDREVILLE\n",
      "Nombre de codes postaux uniques de 15 min: 4\n",
      "Nombre de codes postaux uniques de 30 min: 13\n",
      "Nombre de codes postaux uniques de 45 min: 22\n",
      "Nombre de codes postaux uniques au total: 39\n",
      "Liste de codes postaux uniques de 15 min: {45120, 45490, 45700, 45270}\n",
      "Liste de codes postaux uniques de 30 min: {77570, 77890, 45220, 45290, 45260, 45390, 77167, 45200, 45680, 77460, 77620, 45210, 45340}\n",
      "Liste de codes postaux uniques de 45 min: {77760, 45250, 77250, 45320, 89100, 77710, 45330, 45460, 77140, 77780, 89690, 45530, 89500, 45230, 89330, 45170, 45300, 45110, 77880, 77690, 45500, 89150}\n",
      "Liste de codes postaux uniques au total: {77570, 45700, 45320, 89100, 77710, 45200, 45330, 77460, 45460, 45210, 45340, 89500, 45220, 45230, 45490, 77620, 45110, 77880, 45500, 89150, 45120, 77760, 77890, 45250, 77250, 45260, 45390, 77140, 77780, 45270, 89690, 45530, 45290, 77167, 45680, 89330, 45170, 45300, 77690}\n",
      "\n",
      "\n",
      "Dossier principal: dossier_code\n",
      "Nom de la ville: PLOUAY\n",
      "Nombre de codes postaux uniques de 15 min: 6\n",
      "Nombre de codes postaux uniques de 30 min: 24\n",
      "Nombre de codes postaux uniques de 45 min: 23\n",
      "Nombre de codes postaux uniques au total: 53\n",
      "Liste de codes postaux uniques de 15 min: {56320, 56240, 56850, 29300, 56650, 56620}\n",
      "Liste de codes postaux uniques de 30 min: {56260, 29380, 56520, 56270, 56530, 56600, 29340, 56540, 56670, 56160, 56290, 56100, 29350, 56680, 56110, 29360, 56560, 56690, 56630, 56310, 56440, 56570, 56700, 29310}\n",
      "Liste de codes postaux uniques de 45 min: {56770, 22340, 56330, 29900, 29390, 56400, 29520, 56340, 29140, 56150, 29910, 29270, 56410, 22110, 56480, 29920, 56930, 29540, 56550, 29930, 56300, 56500, 56950}\n",
      "Liste de codes postaux uniques au total: {56320, 56330, 56850, 56340, 56600, 56100, 56620, 56110, 56630, 22340, 56650, 56400, 29520, 56150, 29270, 56410, 56670, 22110, 56160, 56930, 29540, 56680, 56690, 29300, 56950, 56440, 56700, 29310, 29340, 56480, 29350, 56240, 29360, 56500, 56770, 56260, 29380, 56520, 29900, 56270, 29390, 56530, 29140, 29910, 56540, 29920, 56290, 56550, 29930, 56300, 56560, 56310, 56570}\n",
      "\n",
      "\n",
      "Dossier principal: dossier_code\n",
      "Nom de la ville: PRIVAS\n",
      "Nombre de codes postaux uniques de 15 min: 2\n",
      "Nombre de codes postaux uniques de 30 min: 12\n",
      "Nombre de codes postaux uniques de 45 min: 21\n",
      "Nombre de codes postaux uniques au total: 35\n",
      "Liste de codes postaux uniques de 15 min: {7000, 7210}\n",
      "Liste de codes postaux uniques de 30 min: {7360, 7200, 7170, 7400, 26250, 7530, 7250, 7350, 7190, 7800, 7580, 26270}\n",
      "Liste de codes postaux uniques de 45 min: {26500, 7110, 26760, 26120, 7240, 7500, 26000, 26320, 7120, 7380, 26200, 7450, 7130, 26780, 26400, 26800, 7600, 26290, 7220, 26740, 7160}\n",
      "Liste de codes postaux uniques au total: {7170, 26500, 26760, 26120, 26250, 26000, 7190, 7450, 7580, 26780, 26270, 7200, 26400, 7210, 26800, 7600, 26290, 7220, 7350, 7160, 7360, 7110, 7240, 7500, 26320, 7120, 7250, 7380, 7000, 26200, 7130, 7400, 7530, 26740, 7800}\n",
      "\n",
      "\n",
      "Dossier principal: dossier_code\n",
      "Nom de la ville: ROQUEBRUNE\n",
      "Nombre de codes postaux uniques de 15 min: 4\n",
      "Nombre de codes postaux uniques de 30 min: 5\n",
      "Nombre de codes postaux uniques de 45 min: 20\n",
      "Nombre de codes postaux uniques au total: 29\n",
      "Liste de codes postaux uniques de 15 min: {83520, 83370, 83380, 83600}\n",
      "Liste de codes postaux uniques de 30 min: {83120, 83490, 83700, 83480, 83530}\n",
      "Liste de codes postaux uniques de 45 min: {6400, 6210, 83460, 6150, 83720, 83920, 6550, 83350, 83990, 83420, 6110, 83550, 83680, 83300, 6250, 83310, 83440, 6580, 83830, 83580}\n",
      "Liste de codes postaux uniques au total: {6400, 83460, 6150, 83720, 83600, 6550, 83350, 83480, 83990, 83490, 83370, 83120, 83380, 6580, 83520, 6210, 83530, 83920, 83420, 6110, 83550, 83680, 83300, 6250, 83310, 83440, 83700, 83830, 83580}\n",
      "\n",
      "\n",
      "Dossier principal: dossier_code\n",
      "Nom de la ville: VALENCE\n",
      "Nombre de codes postaux uniques de 15 min: 7\n",
      "Nombre de codes postaux uniques de 30 min: 14\n",
      "Nombre de codes postaux uniques de 45 min: 33\n",
      "Nombre de codes postaux uniques au total: 54\n",
      "Liste de codes postaux uniques de 15 min: {26320, 26000, 7300, 26500, 26600, 7130, 26300}\n",
      "Liste de codes postaux uniques de 30 min: {26240, 26120, 26760, 7370, 26380, 26540, 7500, 7440, 26800, 26260, 26100, 7800, 7610, 26750}\n",
      "Liste de codes postaux uniques de 45 min: {7430, 38150, 26250, 38160, 38550, 26390, 42520, 38680, 26140, 26270, 26400, 26530, 7210, 7340, 7350, 38840, 7100, 7360, 7240, 26190, 7250, 7000, 26330, 38370, 26210, 7270, 26730, 26350, 7790, 7410, 26740, 7290, 38270}\n",
      "Liste de codes postaux uniques au total: {7430, 38150, 26120, 26380, 7440, 38160, 26390, 38680, 42520, 26140, 26400, 7210, 7240, 7500, 26190, 7250, 7000, 26210, 7270, 26730, 7790, 26740, 7800, 7290, 26750, 38270, 26240, 7300, 26500, 26760, 26250, 26000, 26260, 38550, 26270, 26530, 26540, 7340, 26800, 7350, 38840, 7610, 26300, 7100, 7360, 7370, 26320, 7130, 26330, 38370, 26600, 26350, 7410, 26100}\n",
      "\n",
      "\n",
      "Traitement de la ville : AURILLAC\n",
      "AURILLAC - 15_min\n"
     ]
    },
    {
     "name": "stderr",
     "output_type": "stream",
     "text": [
      "C:\\Users\\Admin\\AppData\\Local\\Temp\\ipykernel_10256\\1373529742.py:96: UserWarning: pandas only supports SQLAlchemy connectable (engine/connection) or database string URI or sqlite3 DBAPI2 connection. Other DBAPI2 objects are not tested. Please consider using SQLAlchemy.\n",
      "  df = pd.read_sql_query(query, conn, params=(tuple(codes_postaux_str),))\n"
     ]
    },
    {
     "name": "stdout",
     "output_type": "stream",
     "text": [
      "Nombre de lignes avec des numéros vides ou None : 0\n",
      "Nombre de lignes pour les numéros fixes : 17638\n",
      "Nombre de lignes pour les numéros mobiles : 546\n",
      "Somme des numéros fixes et mobiles : 18184\n",
      "\n",
      "\n",
      "AURILLAC - 30_min\n"
     ]
    },
    {
     "name": "stderr",
     "output_type": "stream",
     "text": [
      "C:\\Users\\Admin\\AppData\\Local\\Temp\\ipykernel_10256\\1373529742.py:96: UserWarning: pandas only supports SQLAlchemy connectable (engine/connection) or database string URI or sqlite3 DBAPI2 connection. Other DBAPI2 objects are not tested. Please consider using SQLAlchemy.\n",
      "  df = pd.read_sql_query(query, conn, params=(tuple(codes_postaux_str),))\n"
     ]
    },
    {
     "name": "stdout",
     "output_type": "stream",
     "text": [
      "Nombre de lignes avec des numéros vides ou None : 0\n",
      "Nombre de lignes pour les numéros fixes : 8663\n",
      "Nombre de lignes pour les numéros mobiles : 301\n",
      "Somme des numéros fixes et mobiles : 8964\n",
      "\n",
      "\n",
      "AURILLAC - 45_min\n"
     ]
    },
    {
     "name": "stderr",
     "output_type": "stream",
     "text": [
      "C:\\Users\\Admin\\AppData\\Local\\Temp\\ipykernel_10256\\1373529742.py:96: UserWarning: pandas only supports SQLAlchemy connectable (engine/connection) or database string URI or sqlite3 DBAPI2 connection. Other DBAPI2 objects are not tested. Please consider using SQLAlchemy.\n",
      "  df = pd.read_sql_query(query, conn, params=(tuple(codes_postaux_str),))\n"
     ]
    },
    {
     "name": "stdout",
     "output_type": "stream",
     "text": [
      "Nombre de lignes avec des numéros vides ou None : 0\n",
      "Nombre de lignes pour les numéros fixes : 2550\n",
      "Nombre de lignes pour les numéros mobiles : 72\n",
      "Somme des numéros fixes et mobiles : 2622\n",
      "\n",
      "\n",
      "AURILLAC - total\n"
     ]
    },
    {
     "name": "stderr",
     "output_type": "stream",
     "text": [
      "C:\\Users\\Admin\\AppData\\Local\\Temp\\ipykernel_10256\\1373529742.py:96: UserWarning: pandas only supports SQLAlchemy connectable (engine/connection) or database string URI or sqlite3 DBAPI2 connection. Other DBAPI2 objects are not tested. Please consider using SQLAlchemy.\n",
      "  df = pd.read_sql_query(query, conn, params=(tuple(codes_postaux_str),))\n"
     ]
    },
    {
     "name": "stdout",
     "output_type": "stream",
     "text": [
      "fichier chargés\n",
      "Nombre de lignes avec des numéros vides ou None : 0\n",
      "Nombre de lignes pour les numéros fixes : 28851\n",
      "Nombre de lignes pour les numéros mobiles : 919\n",
      "Somme des numéros fixes et mobiles : 29770\n",
      "\n",
      "\n",
      "Traitement de la ville : CRECHE_SUR_SOANE\n",
      "CRECHE_SUR_SOANE - 15_min\n"
     ]
    },
    {
     "name": "stderr",
     "output_type": "stream",
     "text": [
      "C:\\Users\\Admin\\AppData\\Local\\Temp\\ipykernel_10256\\1373529742.py:96: UserWarning: pandas only supports SQLAlchemy connectable (engine/connection) or database string URI or sqlite3 DBAPI2 connection. Other DBAPI2 objects are not tested. Please consider using SQLAlchemy.\n",
      "  df = pd.read_sql_query(query, conn, params=(tuple(codes_postaux_str),))\n",
      "C:\\Users\\Admin\\AppData\\Local\\Temp\\ipykernel_10256\\1373529742.py:96: UserWarning: pandas only supports SQLAlchemy connectable (engine/connection) or database string URI or sqlite3 DBAPI2 connection. Other DBAPI2 objects are not tested. Please consider using SQLAlchemy.\n",
      "  df = pd.read_sql_query(query, conn, params=(tuple(codes_postaux_str),))\n"
     ]
    },
    {
     "name": "stdout",
     "output_type": "stream",
     "text": [
      "Aucun résultat trouvé pour cette ville.\n",
      "CRECHE_SUR_SOANE - 30_min\n",
      "Nombre de lignes avec des numéros vides ou None : 0\n",
      "Nombre de lignes pour les numéros fixes : 2577\n",
      "Nombre de lignes pour les numéros mobiles : 110\n",
      "Somme des numéros fixes et mobiles : 2687\n",
      "\n",
      "\n",
      "CRECHE_SUR_SOANE - 45_min\n"
     ]
    },
    {
     "name": "stderr",
     "output_type": "stream",
     "text": [
      "C:\\Users\\Admin\\AppData\\Local\\Temp\\ipykernel_10256\\1373529742.py:96: UserWarning: pandas only supports SQLAlchemy connectable (engine/connection) or database string URI or sqlite3 DBAPI2 connection. Other DBAPI2 objects are not tested. Please consider using SQLAlchemy.\n",
      "  df = pd.read_sql_query(query, conn, params=(tuple(codes_postaux_str),))\n"
     ]
    },
    {
     "name": "stdout",
     "output_type": "stream",
     "text": [
      "Nombre de lignes avec des numéros vides ou None : 0\n",
      "Nombre de lignes pour les numéros fixes : 28336\n",
      "Nombre de lignes pour les numéros mobiles : 981\n",
      "Somme des numéros fixes et mobiles : 29317\n",
      "\n",
      "\n",
      "CRECHE_SUR_SOANE - total\n"
     ]
    },
    {
     "name": "stderr",
     "output_type": "stream",
     "text": [
      "C:\\Users\\Admin\\AppData\\Local\\Temp\\ipykernel_10256\\1373529742.py:96: UserWarning: pandas only supports SQLAlchemy connectable (engine/connection) or database string URI or sqlite3 DBAPI2 connection. Other DBAPI2 objects are not tested. Please consider using SQLAlchemy.\n",
      "  df = pd.read_sql_query(query, conn, params=(tuple(codes_postaux_str),))\n"
     ]
    },
    {
     "name": "stdout",
     "output_type": "stream",
     "text": [
      "fichier chargés\n",
      "Nombre de lignes avec des numéros vides ou None : 0\n",
      "Nombre de lignes pour les numéros fixes : 30913\n",
      "Nombre de lignes pour les numéros mobiles : 1091\n",
      "Somme des numéros fixes et mobiles : 32004\n",
      "\n",
      "\n",
      "Traitement de la ville : GONDREVILLE\n",
      "GONDREVILLE - 15_min\n",
      "Aucun résultat trouvé pour cette ville.\n",
      "GONDREVILLE - 30_min\n"
     ]
    },
    {
     "name": "stderr",
     "output_type": "stream",
     "text": [
      "C:\\Users\\Admin\\AppData\\Local\\Temp\\ipykernel_10256\\1373529742.py:96: UserWarning: pandas only supports SQLAlchemy connectable (engine/connection) or database string URI or sqlite3 DBAPI2 connection. Other DBAPI2 objects are not tested. Please consider using SQLAlchemy.\n",
      "  df = pd.read_sql_query(query, conn, params=(tuple(codes_postaux_str),))\n",
      "C:\\Users\\Admin\\AppData\\Local\\Temp\\ipykernel_10256\\1373529742.py:96: UserWarning: pandas only supports SQLAlchemy connectable (engine/connection) or database string URI or sqlite3 DBAPI2 connection. Other DBAPI2 objects are not tested. Please consider using SQLAlchemy.\n",
      "  df = pd.read_sql_query(query, conn, params=(tuple(codes_postaux_str),))\n"
     ]
    },
    {
     "name": "stdout",
     "output_type": "stream",
     "text": [
      "Aucun résultat trouvé pour cette ville.\n",
      "GONDREVILLE - 45_min\n"
     ]
    },
    {
     "name": "stderr",
     "output_type": "stream",
     "text": [
      "C:\\Users\\Admin\\AppData\\Local\\Temp\\ipykernel_10256\\1373529742.py:96: UserWarning: pandas only supports SQLAlchemy connectable (engine/connection) or database string URI or sqlite3 DBAPI2 connection. Other DBAPI2 objects are not tested. Please consider using SQLAlchemy.\n",
      "  df = pd.read_sql_query(query, conn, params=(tuple(codes_postaux_str),))\n"
     ]
    },
    {
     "name": "stdout",
     "output_type": "stream",
     "text": [
      "Aucun résultat trouvé pour cette ville.\n",
      "GONDREVILLE - total\n"
     ]
    },
    {
     "name": "stderr",
     "output_type": "stream",
     "text": [
      "C:\\Users\\Admin\\AppData\\Local\\Temp\\ipykernel_10256\\1373529742.py:96: UserWarning: pandas only supports SQLAlchemy connectable (engine/connection) or database string URI or sqlite3 DBAPI2 connection. Other DBAPI2 objects are not tested. Please consider using SQLAlchemy.\n",
      "  df = pd.read_sql_query(query, conn, params=(tuple(codes_postaux_str),))\n"
     ]
    },
    {
     "name": "stdout",
     "output_type": "stream",
     "text": [
      "Aucun résultat trouvé pour cette ville.\n",
      "Traitement de la ville : PLOUAY\n",
      "PLOUAY - 15_min\n",
      "Aucun résultat trouvé pour cette ville.\n",
      "PLOUAY - 30_min\n"
     ]
    },
    {
     "name": "stderr",
     "output_type": "stream",
     "text": [
      "C:\\Users\\Admin\\AppData\\Local\\Temp\\ipykernel_10256\\1373529742.py:96: UserWarning: pandas only supports SQLAlchemy connectable (engine/connection) or database string URI or sqlite3 DBAPI2 connection. Other DBAPI2 objects are not tested. Please consider using SQLAlchemy.\n",
      "  df = pd.read_sql_query(query, conn, params=(tuple(codes_postaux_str),))\n",
      "C:\\Users\\Admin\\AppData\\Local\\Temp\\ipykernel_10256\\1373529742.py:96: UserWarning: pandas only supports SQLAlchemy connectable (engine/connection) or database string URI or sqlite3 DBAPI2 connection. Other DBAPI2 objects are not tested. Please consider using SQLAlchemy.\n",
      "  df = pd.read_sql_query(query, conn, params=(tuple(codes_postaux_str),))\n"
     ]
    },
    {
     "name": "stdout",
     "output_type": "stream",
     "text": [
      "Aucun résultat trouvé pour cette ville.\n",
      "PLOUAY - 45_min\n"
     ]
    },
    {
     "name": "stderr",
     "output_type": "stream",
     "text": [
      "C:\\Users\\Admin\\AppData\\Local\\Temp\\ipykernel_10256\\1373529742.py:96: UserWarning: pandas only supports SQLAlchemy connectable (engine/connection) or database string URI or sqlite3 DBAPI2 connection. Other DBAPI2 objects are not tested. Please consider using SQLAlchemy.\n",
      "  df = pd.read_sql_query(query, conn, params=(tuple(codes_postaux_str),))\n"
     ]
    },
    {
     "name": "stdout",
     "output_type": "stream",
     "text": [
      "Aucun résultat trouvé pour cette ville.\n",
      "PLOUAY - total\n"
     ]
    },
    {
     "name": "stderr",
     "output_type": "stream",
     "text": [
      "C:\\Users\\Admin\\AppData\\Local\\Temp\\ipykernel_10256\\1373529742.py:96: UserWarning: pandas only supports SQLAlchemy connectable (engine/connection) or database string URI or sqlite3 DBAPI2 connection. Other DBAPI2 objects are not tested. Please consider using SQLAlchemy.\n",
      "  df = pd.read_sql_query(query, conn, params=(tuple(codes_postaux_str),))\n"
     ]
    },
    {
     "name": "stdout",
     "output_type": "stream",
     "text": [
      "Aucun résultat trouvé pour cette ville.\n",
      "Traitement de la ville : PRIVAS\n",
      "PRIVAS - 15_min\n",
      "Aucun résultat trouvé pour cette ville.\n",
      "PRIVAS - 30_min\n"
     ]
    },
    {
     "name": "stderr",
     "output_type": "stream",
     "text": [
      "C:\\Users\\Admin\\AppData\\Local\\Temp\\ipykernel_10256\\1373529742.py:96: UserWarning: pandas only supports SQLAlchemy connectable (engine/connection) or database string URI or sqlite3 DBAPI2 connection. Other DBAPI2 objects are not tested. Please consider using SQLAlchemy.\n",
      "  df = pd.read_sql_query(query, conn, params=(tuple(codes_postaux_str),))\n",
      "C:\\Users\\Admin\\AppData\\Local\\Temp\\ipykernel_10256\\1373529742.py:96: UserWarning: pandas only supports SQLAlchemy connectable (engine/connection) or database string URI or sqlite3 DBAPI2 connection. Other DBAPI2 objects are not tested. Please consider using SQLAlchemy.\n",
      "  df = pd.read_sql_query(query, conn, params=(tuple(codes_postaux_str),))\n"
     ]
    },
    {
     "name": "stdout",
     "output_type": "stream",
     "text": [
      "Nombre de lignes avec des numéros vides ou None : 0\n",
      "Nombre de lignes pour les numéros fixes : 5124\n",
      "Nombre de lignes pour les numéros mobiles : 198\n",
      "Somme des numéros fixes et mobiles : 5322\n",
      "\n",
      "\n",
      "PRIVAS - 45_min\n"
     ]
    },
    {
     "name": "stderr",
     "output_type": "stream",
     "text": [
      "C:\\Users\\Admin\\AppData\\Local\\Temp\\ipykernel_10256\\1373529742.py:96: UserWarning: pandas only supports SQLAlchemy connectable (engine/connection) or database string URI or sqlite3 DBAPI2 connection. Other DBAPI2 objects are not tested. Please consider using SQLAlchemy.\n",
      "  df = pd.read_sql_query(query, conn, params=(tuple(codes_postaux_str),))\n"
     ]
    },
    {
     "name": "stdout",
     "output_type": "stream",
     "text": [
      "Nombre de lignes avec des numéros vides ou None : 0\n",
      "Nombre de lignes pour les numéros fixes : 71451\n",
      "Nombre de lignes pour les numéros mobiles : 2955\n",
      "Somme des numéros fixes et mobiles : 74406\n",
      "\n",
      "\n",
      "PRIVAS - total\n"
     ]
    },
    {
     "name": "stderr",
     "output_type": "stream",
     "text": [
      "C:\\Users\\Admin\\AppData\\Local\\Temp\\ipykernel_10256\\1373529742.py:96: UserWarning: pandas only supports SQLAlchemy connectable (engine/connection) or database string URI or sqlite3 DBAPI2 connection. Other DBAPI2 objects are not tested. Please consider using SQLAlchemy.\n",
      "  df = pd.read_sql_query(query, conn, params=(tuple(codes_postaux_str),))\n"
     ]
    },
    {
     "name": "stdout",
     "output_type": "stream",
     "text": [
      "fichier chargés\n",
      "Nombre de lignes avec des numéros vides ou None : 0\n",
      "Nombre de lignes pour les numéros fixes : 76575\n",
      "Nombre de lignes pour les numéros mobiles : 3153\n",
      "Somme des numéros fixes et mobiles : 79728\n",
      "\n",
      "\n",
      "Traitement de la ville : ROQUEBRUNE\n",
      "ROQUEBRUNE - 15_min\n",
      "Aucun résultat trouvé pour cette ville.\n",
      "ROQUEBRUNE - 30_min\n"
     ]
    },
    {
     "name": "stderr",
     "output_type": "stream",
     "text": [
      "C:\\Users\\Admin\\AppData\\Local\\Temp\\ipykernel_10256\\1373529742.py:96: UserWarning: pandas only supports SQLAlchemy connectable (engine/connection) or database string URI or sqlite3 DBAPI2 connection. Other DBAPI2 objects are not tested. Please consider using SQLAlchemy.\n",
      "  df = pd.read_sql_query(query, conn, params=(tuple(codes_postaux_str),))\n",
      "C:\\Users\\Admin\\AppData\\Local\\Temp\\ipykernel_10256\\1373529742.py:96: UserWarning: pandas only supports SQLAlchemy connectable (engine/connection) or database string URI or sqlite3 DBAPI2 connection. Other DBAPI2 objects are not tested. Please consider using SQLAlchemy.\n",
      "  df = pd.read_sql_query(query, conn, params=(tuple(codes_postaux_str),))\n"
     ]
    },
    {
     "name": "stdout",
     "output_type": "stream",
     "text": [
      "Aucun résultat trouvé pour cette ville.\n",
      "ROQUEBRUNE - 45_min\n",
      "Aucun résultat trouvé pour cette ville.\n",
      "ROQUEBRUNE - total\n"
     ]
    },
    {
     "name": "stderr",
     "output_type": "stream",
     "text": [
      "C:\\Users\\Admin\\AppData\\Local\\Temp\\ipykernel_10256\\1373529742.py:96: UserWarning: pandas only supports SQLAlchemy connectable (engine/connection) or database string URI or sqlite3 DBAPI2 connection. Other DBAPI2 objects are not tested. Please consider using SQLAlchemy.\n",
      "  df = pd.read_sql_query(query, conn, params=(tuple(codes_postaux_str),))\n",
      "C:\\Users\\Admin\\AppData\\Local\\Temp\\ipykernel_10256\\1373529742.py:96: UserWarning: pandas only supports SQLAlchemy connectable (engine/connection) or database string URI or sqlite3 DBAPI2 connection. Other DBAPI2 objects are not tested. Please consider using SQLAlchemy.\n",
      "  df = pd.read_sql_query(query, conn, params=(tuple(codes_postaux_str),))\n"
     ]
    },
    {
     "name": "stdout",
     "output_type": "stream",
     "text": [
      "Aucun résultat trouvé pour cette ville.\n",
      "Traitement de la ville : VALENCE\n",
      "VALENCE - 15_min\n"
     ]
    },
    {
     "name": "stderr",
     "output_type": "stream",
     "text": [
      "C:\\Users\\Admin\\AppData\\Local\\Temp\\ipykernel_10256\\1373529742.py:96: UserWarning: pandas only supports SQLAlchemy connectable (engine/connection) or database string URI or sqlite3 DBAPI2 connection. Other DBAPI2 objects are not tested. Please consider using SQLAlchemy.\n",
      "  df = pd.read_sql_query(query, conn, params=(tuple(codes_postaux_str),))\n"
     ]
    },
    {
     "name": "stdout",
     "output_type": "stream",
     "text": [
      "Nombre de lignes avec des numéros vides ou None : 0\n",
      "Nombre de lignes pour les numéros fixes : 44824\n",
      "Nombre de lignes pour les numéros mobiles : 1897\n",
      "Somme des numéros fixes et mobiles : 46721\n",
      "\n",
      "\n",
      "VALENCE - 30_min\n"
     ]
    },
    {
     "name": "stderr",
     "output_type": "stream",
     "text": [
      "C:\\Users\\Admin\\AppData\\Local\\Temp\\ipykernel_10256\\1373529742.py:96: UserWarning: pandas only supports SQLAlchemy connectable (engine/connection) or database string URI or sqlite3 DBAPI2 connection. Other DBAPI2 objects are not tested. Please consider using SQLAlchemy.\n",
      "  df = pd.read_sql_query(query, conn, params=(tuple(codes_postaux_str),))\n"
     ]
    },
    {
     "name": "stdout",
     "output_type": "stream",
     "text": [
      "Nombre de lignes avec des numéros vides ou None : 0\n",
      "Nombre de lignes pour les numéros fixes : 34473\n",
      "Nombre de lignes pour les numéros mobiles : 1569\n",
      "Somme des numéros fixes et mobiles : 36042\n",
      "\n",
      "\n",
      "VALENCE - 45_min\n"
     ]
    },
    {
     "name": "stderr",
     "output_type": "stream",
     "text": [
      "C:\\Users\\Admin\\AppData\\Local\\Temp\\ipykernel_10256\\1373529742.py:96: UserWarning: pandas only supports SQLAlchemy connectable (engine/connection) or database string URI or sqlite3 DBAPI2 connection. Other DBAPI2 objects are not tested. Please consider using SQLAlchemy.\n",
      "  df = pd.read_sql_query(query, conn, params=(tuple(codes_postaux_str),))\n"
     ]
    },
    {
     "name": "stdout",
     "output_type": "stream",
     "text": [
      "Nombre de lignes avec des numéros vides ou None : 0\n",
      "Nombre de lignes pour les numéros fixes : 24937\n",
      "Nombre de lignes pour les numéros mobiles : 1064\n",
      "Somme des numéros fixes et mobiles : 26001\n",
      "\n",
      "\n",
      "VALENCE - total\n"
     ]
    },
    {
     "name": "stderr",
     "output_type": "stream",
     "text": [
      "C:\\Users\\Admin\\AppData\\Local\\Temp\\ipykernel_10256\\1373529742.py:96: UserWarning: pandas only supports SQLAlchemy connectable (engine/connection) or database string URI or sqlite3 DBAPI2 connection. Other DBAPI2 objects are not tested. Please consider using SQLAlchemy.\n",
      "  df = pd.read_sql_query(query, conn, params=(tuple(codes_postaux_str),))\n"
     ]
    },
    {
     "name": "stdout",
     "output_type": "stream",
     "text": [
      "fichier chargés\n",
      "Nombre de lignes avec des numéros vides ou None : 0\n",
      "Nombre de lignes pour les numéros fixes : 104234\n",
      "Nombre de lignes pour les numéros mobiles : 4530\n",
      "Somme des numéros fixes et mobiles : 108764\n",
      "\n",
      "\n"
     ]
    }
   ],
   "source": [
    "import psycopg2\n",
    "import pandas as pd\n",
    "import re\n",
    "import os\n",
    "\n",
    "# Chemin vers le dossier principal contenant les sous-dossiers (villes)\n",
    "dossier_principal = \"dossier_code\"\n",
    "\n",
    "# Dictionnaire pour stocker les informations par ville, y compris les listes\n",
    "infos_villes = {}\n",
    "\n",
    "# Parcours des dossiers (villes)\n",
    "for ville in os.listdir(dossier_principal):\n",
    "    chemin_ville = os.path.join(dossier_principal, ville)\n",
    "\n",
    "    # Vérification si l'élément est un dossier\n",
    "    if os.path.isdir(chemin_ville):\n",
    "        # Initialisation des listes de codes postaux uniques pour cette ville\n",
    "        codes_postaux = {\n",
    "            \"15_min\": set(),\n",
    "            \"30_min\": set(),\n",
    "            \"45_min\": set(),\n",
    "            \"total\": set()  # Ajout de la liste totale\n",
    "        }\n",
    "\n",
    "        for fichier in os.listdir(chemin_ville):\n",
    "            chemin_fichier = os.path.join(chemin_ville, fichier)\n",
    "\n",
    "            # Vérification si l'élément est un fichier Excel\n",
    "            if os.path.isfile(chemin_fichier) and chemin_fichier.endswith(\".xlsx\"):\n",
    "                # Lecture du fichier Excel\n",
    "                df = pd.read_excel(chemin_fichier)\n",
    "\n",
    "                codes = set(df[\"Code postal\"].tolist())  # Convertir en ensemble (set)\n",
    "\n",
    "                # Mise à jour des codes postaux uniques par minute\n",
    "                if fichier == \"15.xlsx\":\n",
    "                    codes_postaux[\"15_min\"].update(codes)\n",
    "                elif fichier == \"30.xlsx\":\n",
    "                    codes_postaux[\"30_min\"].update(codes - codes_postaux[\"15_min\"])\n",
    "                elif fichier == \"45.xlsx\":\n",
    "                    codes_postaux[\"45_min\"].update(codes - codes_postaux[\"30_min\"] - codes_postaux[\"15_min\"])\n",
    "\n",
    "                # Mise à jour de la liste totale\n",
    "                codes_postaux[\"total\"].update(codes)\n",
    "\n",
    "        # Stockage des informations par ville, y compris les listes\n",
    "        nom_dossier = os.path.basename(dossier_principal)\n",
    "        nom_ville = os.path.basename(chemin_ville)\n",
    "        infos_villes[nom_ville] = {\n",
    "            \"Nom_Dossier\": nom_dossier,\n",
    "            \"Nom_Ville\": nom_ville,\n",
    "            \"Codes_Postaux_15_min\": len(codes_postaux[\"15_min\"]),\n",
    "            \"Codes_Postaux_30_min\": len(codes_postaux[\"30_min\"]),\n",
    "            \"Codes_Postaux_45_min\": len(codes_postaux[\"45_min\"]),\n",
    "            \"Codes_Postaux_Uniques\": len(codes_postaux[\"total\"]),  # Utilisation de la liste totale pour les codes uniques\n",
    "            \"Codes_Postaux_Listes\": codes_postaux  # Ajout des listes de codes postaux\n",
    "        }\n",
    "\n",
    "# Affichage des informations par ville et des listes de codes postaux uniques\n",
    "for nom_ville, info in infos_villes.items():\n",
    "    print(f\"Dossier principal: {info['Nom_Dossier']}\")\n",
    "    print(f\"Nom de la ville: {info['Nom_Ville']}\")\n",
    "    print(\"Nombre de codes postaux uniques de 15 min:\", info[\"Codes_Postaux_15_min\"])\n",
    "    print(\"Nombre de codes postaux uniques de 30 min:\", info[\"Codes_Postaux_30_min\"])\n",
    "    print(\"Nombre de codes postaux uniques de 45 min:\", info[\"Codes_Postaux_45_min\"])\n",
    "    print(\"Nombre de codes postaux uniques au total:\", info[\"Codes_Postaux_Uniques\"])\n",
    "    print(\"Liste de codes postaux uniques de 15 min:\", info[\"Codes_Postaux_Listes\"][\"15_min\"])\n",
    "    print(\"Liste de codes postaux uniques de 30 min:\", info[\"Codes_Postaux_Listes\"][\"30_min\"])\n",
    "    print(\"Liste de codes postaux uniques de 45 min:\", info[\"Codes_Postaux_Listes\"][\"45_min\"])\n",
    "    print(\"Liste de codes postaux uniques au total:\", info[\"Codes_Postaux_Listes\"][\"total\"])\n",
    "    print(\"\\n\")\n",
    "\n",
    "# Établir la connexion à la base de données PostgreSQL\n",
    "conn = psycopg2.connect(\n",
    "    host=\"localhost\",\n",
    "    database=\"Base\",\n",
    "    user=\"waouhmonde\",\n",
    "    password=\"waouhmonde\"\n",
    ")\n",
    "\n",
    "for nom_ville, info in infos_villes.items():\n",
    "    print(f\"Traitement de la ville : {nom_ville}\")\n",
    "    for valeur_type in [\"15_min\", \"30_min\", \"45_min\", \"total\"]:\n",
    "        print(f\"{nom_ville} - {valeur_type}\")\n",
    "        codes_postaux_liste = info[\"Codes_Postaux_Listes\"][valeur_type]\n",
    "        # Convertissez les codes postaux en chaînes de caractères (str)\n",
    "        codes_postaux_str = [str(code_postal) for code_postal in codes_postaux_liste]\n",
    "\n",
    "        # Créez une requête SQL pour rechercher les lignes correspondantes dans votre table\n",
    "        query = \"SELECT * FROM ma_table WHERE code_postal IN %s\"\n",
    "\n",
    "        # Exécutez la requête SQL en utilisant les codes postaux convertis comme paramètres\n",
    "        df = pd.read_sql_query(query, conn, params=(tuple(codes_postaux_str),))\n",
    "\n",
    "        # Si le DataFrame est vide, affichez un message\n",
    "        if df.empty:\n",
    "            print(\"Aucun résultat trouvé pour cette ville.\")\n",
    "        else:\n",
    "            # Supprimer les doublons en fonction du numéro de téléphone\n",
    "            df.drop_duplicates(subset=['numero_telephone'], keep='first', inplace=True)\n",
    "\n",
    "            def extract_nom_prenom(row):\n",
    "                nom_prenom = row['nom'].split(' ')\n",
    "                nom = nom_prenom[0]\n",
    "                prenom = ' '.join(nom_prenom[1:])\n",
    "                return pd.Series([nom, prenom], index=['Nom', 'Prenom'])\n",
    "\n",
    "            # Appliquer la fonction au DataFrame et concaténer le résultat\n",
    "            df = pd.concat([df, df.apply(extract_nom_prenom, axis=1)], axis=1)\n",
    "\n",
    "            # Supprimer la colonne 'nom' originale si nécessaire\n",
    "            df = df.drop('nom', axis=1)\n",
    "\n",
    "            # Lire le fichier Excel dans df1\n",
    "            nom_du_fichier = 'prenoms_arabes.xlsx'\n",
    "            df1 = pd.read_excel(nom_du_fichier)\n",
    "\n",
    "            prenoms_arabes = df1['Prénoms']\n",
    "\n",
    "            # Filtrer les prénoms arabes\n",
    "            masque = df['Prenom'].isin(prenoms_arabes)\n",
    "            df = df[~masque]\n",
    "\n",
    "            # Définition des fonctions pour les numéros mobiles et fixes\n",
    "            def est_mobile(numero):\n",
    "                motif_mobile = r'^(6\\d{8}|\\+336\\d{8}|7\\d{8})'  # Inclure les numéros commençant par \"7\" comme numéros mobiles\n",
    "                return bool(re.match(motif_mobile, str(numero)))  # Convertir en chaîne de caractères\n",
    "\n",
    "            def est_fixe(numero):\n",
    "                motif_fixe = r'^(0[1-5]\\d{7}|0[8-9]\\d{7}|[1-5]\\d{7}|[6-9]\\d{7}|9\\d{7})'  # Inclure les numéros commençant par \"9\" comme numéros fixes\n",
    "                return bool(re.match(motif_fixe, str(numero)))  # Convertir en chaîne de caractères\n",
    "\n",
    "            # Filtrer les numéros mobiles et fixes\n",
    "            df_mobile = df[df['numero_telephone'].apply(est_mobile)].copy()\n",
    "            df_fixe = df[df['numero_telephone'].apply(est_fixe)].copy()\n",
    "            \n",
    "            if valeur_type == \"total\" :\n",
    "                nom_fichier_fixe = f\"{nom_ville}Fixe.xlsx\"\n",
    "                nom_fichier_mobile = f\"{nom_ville}Mobile.xlsx\"\n",
    "                df_fixe.to_excel(nom_fichier_fixe, index=False)\n",
    "                df_mobile.to_excel(nom_fichier_mobile, index=False)\n",
    "                print(\"fichier chargés\")\n",
    "            # Créer une DataFrame pour les numéros inconnus\n",
    "            df_inconnu = df[~df['numero_telephone'].apply(est_mobile) & ~df['numero_telephone'].apply(est_fixe)].copy()\n",
    "\n",
    "            # Obtenir une liste des numéros inconnus\n",
    "            numeros_inconnus = df_inconnu['numero_telephone'].tolist()\n",
    "\n",
    "            # Compter les lignes où le numéro est vide ou None\n",
    "            numero_vide_count = df[df['numero_telephone'].isna() | df['numero_telephone'] == ''].shape[0]\n",
    "\n",
    "            # Nombre de lignes pour les numéros fixes\n",
    "            nombre_fixe = df_fixe.shape[0]\n",
    "\n",
    "            # Nombre de lignes pour les numéros mobiles\n",
    "            nombre_mobile = df_mobile.shape[0]\n",
    "\n",
    "            # Somme des numéros fixes et mobiles\n",
    "            somme_fixe_mobile = nombre_fixe + nombre_mobile\n",
    "\n",
    "            print(f\"Nombre de lignes avec des numéros vides ou None : {numero_vide_count}\")\n",
    "            print(f\"Nombre de lignes pour les numéros fixes : {nombre_fixe}\")\n",
    "            print(f\"Nombre de lignes pour les numéros mobiles : {nombre_mobile}\")\n",
    "            print(f\"Somme des numéros fixes et mobiles : {somme_fixe_mobile}\")\n",
    "\n",
    "            print(\"\\n\")\n",
    "\n",
    "# Fermez la connexion à la base de données\n",
    "conn.close()"
   ]
  },
  {
   "cell_type": "code",
   "execution_count": null,
   "id": "e14ff711",
   "metadata": {},
   "outputs": [],
   "source": []
  },
  {
   "cell_type": "code",
   "execution_count": null,
   "id": "08f368d1",
   "metadata": {},
   "outputs": [],
   "source": [
    "import psycopg2\n",
    "import pandas as pd\n",
    "import re\n",
    "import os\n",
    "\n",
    "# Chemin vers le dossier principal contenant les sous-dossiers (villes)\n",
    "dossier_principal = \"dossier_code\"\n",
    "\n",
    "# Dictionnaire pour stocker les informations par ville, y compris les listes\n",
    "infos_villes = {}\n",
    "\n",
    "# Parcours des dossiers (villes)\n",
    "for ville in os.listdir(dossier_principal):\n",
    "    chemin_ville = os.path.join(dossier_principal, ville)\n",
    "\n",
    "    # Vérification si l'élément est un dossier\n",
    "    if os.path.isdir(chemin_ville):\n",
    "        # Initialisation des listes de codes postaux uniques pour cette ville\n",
    "        codes_postaux = {\n",
    "            \"15_min\": set(),\n",
    "            \"30_min\": set(),\n",
    "            \"45_min\": set(),\n",
    "            \"total\": set()  # Ajout de la liste totale\n",
    "        }\n",
    "\n",
    "        for fichier in os.listdir(chemin_ville):\n",
    "            chemin_fichier = os.path.join(chemin_ville, fichier)\n",
    "\n",
    "            # Vérification si l'élément est un fichier Excel\n",
    "            if os.path.isfile(chemin_fichier) and chemin_fichier.endswith(\".xlsx\"):\n",
    "                # Lecture du fichier Excel\n",
    "                df = pd.read_excel(chemin_fichier)\n",
    "\n",
    "                codes = set(df[\"Code postal\"].tolist())  # Convertir en ensemble (set)\n",
    "\n",
    "                # Mise à jour des codes postaux uniques par minute\n",
    "                if fichier == \"15.xlsx\":\n",
    "                    codes_postaux[\"15_min\"].update(codes)\n",
    "                elif fichier == \"30.xlsx\":\n",
    "                    codes_postaux[\"30_min\"].update(codes - codes_postaux[\"15_min\"])\n",
    "                elif fichier == \"45.xlsx\":\n",
    "                    codes_postaux[\"45_min\"].update(codes - codes_postaux[\"30_min\"] - codes_postaux[\"15_min\"])\n",
    "\n",
    "                # Mise à jour de la liste totale\n",
    "                codes_postaux[\"total\"].update(codes)\n",
    "\n",
    "        # Stockage des informations par ville, y compris les listes\n",
    "        nom_dossier = os.path.basename(dossier_principal)\n",
    "        nom_ville = os.path.basename(chemin_ville)\n",
    "        infos_villes[nom_ville] = {\n",
    "            \"Nom_Dossier\": nom_dossier,\n",
    "            \"Nom_Ville\": nom_ville,\n",
    "            \"Codes_Postaux_15_min\": len(codes_postaux[\"15_min\"]),\n",
    "            \"Codes_Postaux_30_min\": len(codes_postaux[\"30_min\"]),\n",
    "            \"Codes_Postaux_45_min\": len(codes_postaux[\"45_min\"]),\n",
    "            \"Codes_Postaux_Uniques\": len(codes_postaux[\"total\"]),  # Utilisation de la liste totale pour les codes uniques\n",
    "            \"Codes_Postaux_Listes\": codes_postaux  # Ajout des listes de codes postaux\n",
    "        }\n",
    "\n",
    "# Affichage des informations par ville et des listes de codes postaux uniques\n",
    "for nom_ville, info in infos_villes.items():\n",
    "    print(f\"Dossier principal: {info['Nom_Dossier']}\")\n",
    "    print(f\"Nom de la ville: {info['Nom_Ville']}\")\n",
    "    print(\"Nombre de codes postaux uniques de 15 min:\", info[\"Codes_Postaux_15_min\"])\n",
    "    print(\"Nombre de codes postaux uniques de 30 min:\", info[\"Codes_Postaux_30_min\"])\n",
    "    print(\"Nombre de codes postaux uniques de 45 min:\", info[\"Codes_Postaux_45_min\"])\n",
    "    print(\"Nombre de codes postaux uniques au total:\", info[\"Codes_Postaux_Uniques\"])\n",
    "    print(\"Liste de codes postaux uniques de 15 min:\", info[\"Codes_Postaux_Listes\"][\"15_min\"])\n",
    "    print(\"Liste de codes postaux uniques de 30 min:\", info[\"Codes_Postaux_Listes\"][\"30_min\"])\n",
    "    print(\"Liste de codes postaux uniques de 45 min:\", info[\"Codes_Postaux_Listes\"][\"45_min\"])\n",
    "    print(\"Liste de codes postaux uniques au total:\", info[\"Codes_Postaux_Listes\"][\"total\"])\n",
    "    print(\"\\n\")\n",
    "\n",
    "# Établir la connexion à la base de données PostgreSQL\n",
    "conn = psycopg2.connect(\n",
    "    host=\"localhost\",\n",
    "    database=\"Base\",\n",
    "    user=\"waouhmonde\",\n",
    "    password=\"waouhmonde\"\n",
    ")\n",
    "\n",
    "for nom_ville, info in infos_villes.items():\n",
    "    print(f\"Traitement de la ville : {nom_ville}\")\n",
    "    for valeur_type in [\"15_min\", \"30_min\", \"45_min\", \"total\"]:\n",
    "        print(f\"{nom_ville} - {valeur_type}\")\n",
    "        codes_postaux_liste = info[\"Codes_Postaux_Listes\"][valeur_type]\n",
    "        # Convertissez les codes postaux en chaînes de caractères (str)\n",
    "        codes_postaux_str = [str(code_postal) for code_postal in codes_postaux_liste]\n",
    "\n",
    "        # Créez une requête SQL pour rechercher les lignes correspondantes dans votre table\n",
    "        query = \"SELECT * FROM ma_table WHERE code_postal IN %s\"\n",
    "\n",
    "        # Exécutez la requête SQL en utilisant les codes postaux convertis comme paramètres\n",
    "        df = pd.read_sql_query(query, conn, params=(tuple(codes_postaux_str),))\n",
    "\n",
    "        # Si le DataFrame est vide, affichez un message\n",
    "        if df.empty:\n",
    "            print(\"Aucun résultat trouvé pour cette ville.\")\n",
    "        else:\n",
    "            # Supprimer les doublons en fonction du numéro de téléphone\n",
    "            df.drop_duplicates(subset=['numero_telephone'], keep='first', inplace=True)\n",
    "\n",
    "            def extract_nom_prenom(row):\n",
    "                nom_prenom = row['nom'].split(' ')\n",
    "                nom = nom_prenom[0]\n",
    "                prenom = ' '.join(nom_prenom[1:])\n",
    "                return pd.Series([nom, prenom], index=['Nom', 'Prenom'])\n",
    "\n",
    "            # Appliquer la fonction au DataFrame et concaténer le résultat\n",
    "            df = pd.concat([df, df.apply(extract_nom_prenom, axis=1)], axis=1)\n",
    "\n",
    "            # Supprimer la colonne 'nom' originale si nécessaire\n",
    "            df = df.drop('nom', axis=1)\n",
    "\n",
    "            # Lire le fichier Excel dans df1\n",
    "            nom_du_fichier = 'prenoms_arabes.xlsx'\n",
    "            df1 = pd.read_excel(nom_du_fichier)\n",
    "\n",
    "            prenoms_arabes = df1['Prénoms']\n",
    "\n",
    "            # Filtrer les prénoms arabes\n",
    "            masque = df['Prenom'].isin(prenoms_arabes)\n",
    "            df = df[~masque]\n",
    "\n",
    "            # Définition des fonctions pour les numéros mobiles et fixes\n",
    "            def est_mobile(numero):\n",
    "                motif_mobile = r'^(6\\d{8}|\\+336\\d{8}|7\\d{8})'  # Inclure les numéros commençant par \"7\" comme numéros mobiles\n",
    "                return bool(re.match(motif_mobile, str(numero)))  # Convertir en chaîne de caractères\n",
    "\n",
    "            def est_fixe(numero):\n",
    "                motif_fixe = r'^(0[1-5]\\d{7}|0[8-9]\\d{7}|[1-5]\\d{7}|[6-9]\\d{7}|9\\d{7})'  # Inclure les numéros commençant par \"9\" comme numéros fixes\n",
    "                return bool(re.match(motif_fixe, str(numero)))  # Convertir en chaîne de caractères\n",
    "\n",
    "            # Filtrer les numéros mobiles et fixes\n",
    "            df_mobile = df[df['numero_telephone'].apply(est_mobile)].copy()\n",
    "            df_fixe = df[df['numero_telephone'].apply(est_fixe)].copy()\n",
    "            \n",
    "            if valeur_type == \"total\" :\n",
    "                nom_fichier_fixe = f\"{nom_ville}Fixe.xlsx\"\n",
    "                nom_fichier_mobile = f\"{nom_ville}Mobile.xlsx\"\n",
    "                df_fixe.to_excel(nom_fichier_fixe, index=False)\n",
    "                df_mobile.to_excel(nom_fichier_mobile, index=False)\n",
    "                print(\"fichier chargés\")\n",
    "            # Créer une DataFrame pour les numéros inconnus\n",
    "            df_inconnu = df[~df['numero_telephone'].apply(est_mobile) & ~df['numero_telephone'].apply(est_fixe)].copy()\n",
    "\n",
    "            # Obtenir une liste des numéros inconnus\n",
    "            numeros_inconnus = df_inconnu['numero_telephone'].tolist()\n",
    "\n",
    "            # Compter les lignes où le numéro est vide ou None\n",
    "            numero_vide_count = df[df['numero_telephone'].isna() | df['numero_telephone'] == ''].shape[0]\n",
    "\n",
    "            # Nombre de lignes pour les numéros fixes\n",
    "            nombre_fixe = df_fixe.shape[0]\n",
    "\n",
    "            # Nombre de lignes pour les numéros mobiles\n",
    "            nombre_mobile = df_mobile.shape[0]\n",
    "\n",
    "            # Somme des numéros fixes et mobiles\n",
    "            somme_fixe_mobile = nombre_fixe + nombre_mobile\n",
    "\n",
    "            print(f\"Nombre de lignes avec des numéros vides ou None : {numero_vide_count}\")\n",
    "            print(f\"Nombre de lignes pour les numéros fixes : {nombre_fixe}\")\n",
    "            print(f\"Nombre de lignes pour les numéros mobiles : {nombre_mobile}\")\n",
    "            print(f\"Somme des numéros fixes et mobiles : {somme_fixe_mobile}\")\n",
    "\n",
    "            print(\"\\n\")\n",
    "\n",
    "# Fermez la connexion à la base de données\n",
    "conn.close()"
   ]
  }
 ],
 "metadata": {
  "kernelspec": {
   "display_name": "Python 3 (ipykernel)",
   "language": "python",
   "name": "python3"
  },
  "language_info": {
   "codemirror_mode": {
    "name": "ipython",
    "version": 3
   },
   "file_extension": ".py",
   "mimetype": "text/x-python",
   "name": "python",
   "nbconvert_exporter": "python",
   "pygments_lexer": "ipython3",
   "version": "3.11.5"
  }
 },
 "nbformat": 4,
 "nbformat_minor": 5
}
