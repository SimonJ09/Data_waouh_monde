{
 "cells": [
  {
   "cell_type": "code",
   "execution_count": 4,
   "id": "29360f4c",
   "metadata": {},
   "outputs": [
    {
     "name": "stdout",
     "output_type": "stream",
     "text": [
      "Liste des noms de variables locales :\n",
      "['df_15_GONDE', 'df_AURILLAC_15', 'df_AURILLAC_30', 'df_AURILLAC_45', 'df_CReCHE_15', 'df_CReche_30', 'df_CReche_45', 'df_Gondreville_30', 'df_Gondreville_45', 'df_PRIVAS__15', 'df_PRIVAS_30', 'df_PRIVAS_45', 'df_Roquebrun_15', 'df_Roquebrune_30', 'df_Roquebrune_45', 'df_VALENCE_15', 'df_VALENCE_30', 'df_VALENCE_45']\n"
     ]
    }
   ],
   "source": [
    "import pandas as pd\n",
    "import os\n",
    "\n",
    "# Définissez le chemin du dossier contenant les fichiers Excel\n",
    "dossier = \"Nouveaux codes postaux\"\n",
    "dataframes = {}\n",
    "\n",
    "# Listes pour stocker les noms des variables locales et des DataFrames\n",
    "noms_variables_locales = []\n",
    "noms_dataframes = []\n",
    "\n",
    "for i, fichier in enumerate(os.listdir(dossier)):\n",
    "    if fichier.endswith(\".xlsx\"):  \n",
    "        nom_dataframe = os.path.splitext(fichier)[0].replace(\" \", \"_\")  # Remplace les espaces par des soulignements\n",
    "        chemin_fichier = os.path.join(dossier, fichier)\n",
    "        \n",
    "        # Chargez les données dans le DataFrame correspondant et renommez la variable locale\n",
    "        nom_variable_dataframe = f\"df_{nom_dataframe}\"\n",
    "        locals()[nom_variable_dataframe] = pd.read_excel(chemin_fichier)\n",
    "\n",
    "        dataframes[nom_dataframe] = locals()[nom_variable_dataframe]\n",
    "        \n",
    "        noms_variables_locales.append(nom_variable_dataframe)\n",
    "        noms_dataframes.append(nom_dataframe)\n",
    "\n",
    "# Affichez les noms des DataFrames\n",
    "print(\"Liste des noms de variables locales :\")\n",
    "print(noms_variables_locales)"
   ]
  },
  {
   "cell_type": "code",
   "execution_count": 6,
   "id": "288e87ee",
   "metadata": {},
   "outputs": [
    {
     "data": {
      "text/html": [
       "<div>\n",
       "<style scoped>\n",
       "    .dataframe tbody tr th:only-of-type {\n",
       "        vertical-align: middle;\n",
       "    }\n",
       "\n",
       "    .dataframe tbody tr th {\n",
       "        vertical-align: top;\n",
       "    }\n",
       "\n",
       "    .dataframe thead th {\n",
       "        text-align: right;\n",
       "    }\n",
       "</style>\n",
       "<table border=\"1\" class=\"dataframe\">\n",
       "  <thead>\n",
       "    <tr style=\"text-align: right;\">\n",
       "      <th></th>\n",
       "      <th>Code postal</th>\n",
       "      <th>% dans la zone</th>\n",
       "      <th>Communes associées au code postal</th>\n",
       "      <th>Nom des communes associées au code postal</th>\n",
       "      <th>IRIS associés au code postal</th>\n",
       "    </tr>\n",
       "  </thead>\n",
       "  <tbody>\n",
       "    <tr>\n",
       "      <th>0</th>\n",
       "      <td>15000</td>\n",
       "      <td>87</td>\n",
       "      <td>15014, 15267</td>\n",
       "      <td>Aurillac, Ytrac</td>\n",
       "      <td>150140101, 150140102, 150140103, 150140104, 15...</td>\n",
       "    </tr>\n",
       "    <tr>\n",
       "      <th>1</th>\n",
       "      <td>15130</td>\n",
       "      <td>31</td>\n",
       "      <td>15012, 15028, 15058, 15074, 15085, 15090, 1515...</td>\n",
       "      <td>Arpajon-sur-Cère, Carlat, Cros-de-Ronesque, Gi...</td>\n",
       "      <td>150120101, 150120102, 150280000, 150580000, 15...</td>\n",
       "    </tr>\n",
       "    <tr>\n",
       "      <th>2</th>\n",
       "      <td>15250</td>\n",
       "      <td>12</td>\n",
       "      <td>15016, 15056, 15083, 15095, 15118, 15140, 1516...</td>\n",
       "      <td>Ayrens, Crandelles, Jussac, Laroquevieille, Ma...</td>\n",
       "      <td>150160000, 150560000, 150830000, 150950000, 15...</td>\n",
       "    </tr>\n",
       "    <tr>\n",
       "      <th>3</th>\n",
       "      <td>15220</td>\n",
       "      <td>8</td>\n",
       "      <td>15117, 15163, 15172, 15196, 15264</td>\n",
       "      <td>Marcolès, Roannes-Saint-Mary, Saint-Antoine, S...</td>\n",
       "      <td>151170000, 151630000, 151720000, 151960000, 15...</td>\n",
       "    </tr>\n",
       "  </tbody>\n",
       "</table>\n",
       "</div>"
      ],
      "text/plain": [
       "   Code postal  % dans la zone  \\\n",
       "0        15000              87   \n",
       "1        15130              31   \n",
       "2        15250              12   \n",
       "3        15220               8   \n",
       "\n",
       "                   Communes associées au code postal  \\\n",
       "0                                       15014, 15267   \n",
       "1  15012, 15028, 15058, 15074, 15085, 15090, 1515...   \n",
       "2  15016, 15056, 15083, 15095, 15118, 15140, 1516...   \n",
       "3                  15117, 15163, 15172, 15196, 15264   \n",
       "\n",
       "           Nom des communes associées au code postal  \\\n",
       "0                                    Aurillac, Ytrac   \n",
       "1  Arpajon-sur-Cère, Carlat, Cros-de-Ronesque, Gi...   \n",
       "2  Ayrens, Crandelles, Jussac, Laroquevieille, Ma...   \n",
       "3  Marcolès, Roannes-Saint-Mary, Saint-Antoine, S...   \n",
       "\n",
       "                        IRIS associés au code postal  \n",
       "0  150140101, 150140102, 150140103, 150140104, 15...  \n",
       "1  150120101, 150120102, 150280000, 150580000, 15...  \n",
       "2  150160000, 150560000, 150830000, 150950000, 15...  \n",
       "3  151170000, 151630000, 151720000, 151960000, 15...  "
      ]
     },
     "execution_count": 6,
     "metadata": {},
     "output_type": "execute_result"
    }
   ],
   "source": [
    "df_AURILLAC_15"
   ]
  },
  {
   "cell_type": "code",
   "execution_count": 10,
   "id": "f58616f8",
   "metadata": {},
   "outputs": [
    {
     "name": "stderr",
     "output_type": "stream",
     "text": [
      "C:\\Users\\Admin\\AppData\\Local\\Temp\\ipykernel_14292\\1801848869.py:22: UserWarning: pandas only supports SQLAlchemy connectable (engine/connection) or database string URI or sqlite3 DBAPI2 connection. Other DBAPI2 objects are not tested. Please consider using SQLAlchemy.\n",
      "  df = pd.read_sql_query(query, conn, params=(tuple(codes_postaux_str),))\n"
     ]
    },
    {
     "data": {
      "text/html": [
       "<div>\n",
       "<style scoped>\n",
       "    .dataframe tbody tr th:only-of-type {\n",
       "        vertical-align: middle;\n",
       "    }\n",
       "\n",
       "    .dataframe tbody tr th {\n",
       "        vertical-align: top;\n",
       "    }\n",
       "\n",
       "    .dataframe thead th {\n",
       "        text-align: right;\n",
       "    }\n",
       "</style>\n",
       "<table border=\"1\" class=\"dataframe\">\n",
       "  <thead>\n",
       "    <tr style=\"text-align: right;\">\n",
       "      <th></th>\n",
       "      <th>id</th>\n",
       "      <th>nom</th>\n",
       "      <th>adresse</th>\n",
       "      <th>code_postal</th>\n",
       "      <th>ville</th>\n",
       "      <th>numero_telephone</th>\n",
       "      <th>tranche_age</th>\n",
       "      <th>autre_colonne</th>\n",
       "    </tr>\n",
       "  </thead>\n",
       "  <tbody>\n",
       "  </tbody>\n",
       "</table>\n",
       "</div>"
      ],
      "text/plain": [
       "Empty DataFrame\n",
       "Columns: [id, nom, adresse, code_postal, ville, numero_telephone, tranche_age, autre_colonne]\n",
       "Index: []"
      ]
     },
     "execution_count": 10,
     "metadata": {},
     "output_type": "execute_result"
    }
   ],
   "source": [
    "import psycopg2\n",
    "import pandas as pd\n",
    "\n",
    "# Récupérez les codes postaux du DataFrame\n",
    "codes_postaux = df_Roquebrun_15[\"Code postal\"].tolist()\n",
    "\n",
    "# Convertissez les codes postaux en chaînes de caractères (str)\n",
    "codes_postaux_str = [str(code_postal) for code_postal in codes_postaux]\n",
    "\n",
    "# Établissez la connexion à votre base de données PostgreSQL\n",
    "conn = psycopg2.connect(\n",
    "    host=\"localhost\",\n",
    "    database=\"Base\",\n",
    "    user=\"waouhmonde\",\n",
    "    password=\"waouhmonde\"\n",
    ")\n",
    "\n",
    "# Créez une requête SQL pour rechercher les lignes correspondantes dans votre table\n",
    "query = \"SELECT * FROM ma_table WHERE code_postal IN %s\"\n",
    "\n",
    "# Exécutez la requête SQL en utilisant les codes postaux convertis comme paramètres\n",
    "df = pd.read_sql_query(query, conn, params=(tuple(codes_postaux_str),))\n",
    "\n",
    "# Fermez la connexion à la base de données\n",
    "conn.close()\n",
    "\n",
    "# Affichez le DataFrame résultant\n",
    "df"
   ]
  },
  {
   "cell_type": "code",
   "execution_count": null,
   "id": "4d5b19db",
   "metadata": {},
   "outputs": [],
   "source": []
  }
 ],
 "metadata": {
  "kernelspec": {
   "display_name": "Python 3 (ipykernel)",
   "language": "python",
   "name": "python3"
  },
  "language_info": {
   "codemirror_mode": {
    "name": "ipython",
    "version": 3
   },
   "file_extension": ".py",
   "mimetype": "text/x-python",
   "name": "python",
   "nbconvert_exporter": "python",
   "pygments_lexer": "ipython3",
   "version": "3.11.5"
  }
 },
 "nbformat": 4,
 "nbformat_minor": 5
}
